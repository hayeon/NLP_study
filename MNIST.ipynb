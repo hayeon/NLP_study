{
 "cells": [
  {
   "cell_type": "markdown",
   "id": "da2a7498",
   "metadata": {},
   "source": [
    "# MNIST 튜토리얼"
   ]
  },
  {
   "cell_type": "code",
   "execution_count": 5,
   "id": "35e3ad11",
   "metadata": {},
   "outputs": [],
   "source": [
    "# 라이브러리 호출\n",
    "import torch\n",
    "import torch.nn as nn\n",
    "import torch.nn.functional as F\n",
    "import torch.optim as optim\n",
    "import torchvision.datasets as dataset\n",
    "import torchvision.transforms as transforms\n",
    "\n",
    "import random\n",
    "import numpy as np\n",
    "import matplotlib.pyplot as plt"
   ]
  },
  {
   "cell_type": "code",
   "execution_count": 6,
   "id": "af7ab1b9",
   "metadata": {},
   "outputs": [],
   "source": [
    "mnist_train = dataset.MNIST(root='./MNIST_data', #학습데이터셋\n",
    "                          train=True, #학습여부\n",
    "                          transform=transforms.ToTensor(), #자료형태 Tensor\n",
    "                          download=True) #이미지가 없으면 자동 다운 \n",
    "\n",
    "mnist_test = dataset.MNIST(root='./MNIST_data', #테스트 데이터 셋\n",
    "                         train=False, \n",
    "                         transform=transforms.ToTensor(), \n",
    "                         download=True)"
   ]
  },
  {
   "cell_type": "code",
   "execution_count": 7,
   "id": "9d4317cc",
   "metadata": {},
   "outputs": [
    {
     "name": "stdout",
     "output_type": "stream",
     "text": [
      "Dataset MNIST\n",
      "    Number of datapoints: 60000\n",
      "    Root location: ./MNIST_data\n",
      "    Split: Train\n",
      "    StandardTransform\n",
      "Transform: ToTensor()\n",
      "Dataset MNIST\n",
      "    Number of datapoints: 10000\n",
      "    Root location: ./MNIST_data\n",
      "    Split: Test\n",
      "    StandardTransform\n",
      "Transform: ToTensor()\n"
     ]
    }
   ],
   "source": [
    "print(mnist_train)\n",
    "print(mnist_test)"
   ]
  },
  {
   "cell_type": "code",
   "execution_count": 8,
   "id": "d25e3a7c",
   "metadata": {},
   "outputs": [
    {
     "name": "stdout",
     "output_type": "stream",
     "text": [
      "5\n"
     ]
    },
    {
     "data": {
      "image/png": "[encoded data removed]",
      "text/plain": [
       "<Figure size 640x480 with 1 Axes>"
      ]
     },
     "metadata": {},
     "output_type": "display_data"
    }
   ],
   "source": [
    "# sample\n",
    "img, label = mnist_train[0] #mnist_train는 입력 데이터 레이블로 구성\n",
    "plt.imshow(img[0,:,:],cmap='gray')\n",
    "print(label)"
   ]
  },
  {
   "cell_type": "code",
   "execution_count": 9,
   "id": "3ddbf322",
   "metadata": {},
   "outputs": [],
   "source": [
    "# 상대적으로 쉬운 문제이므로 valid_dataset은 따로 상정X\n",
    "train_loader = torch.utils.data.DataLoader(mnist_train,batch_size=32,shuffle=True,drop_last=False)\n",
    "test_loader = torch.utils.data.DataLoader(mnist_test,batch_size=32,shuffle=False,drop_last=False)"
   ]
  },
  {
   "cell_type": "code",
   "execution_count": 11,
   "id": "541a30cc",
   "metadata": {},
   "outputs": [],
   "source": [
    "# Neural network 모델만들기\n",
    "class MNIST_full(nn.Module): # 인공 신경망 호출\n",
    "    def __init__(self): # 상속받은 파이썬 클래쓰의 초기 구문\n",
    "        super(MNIST_full,self).__init__()\n",
    "        self.lin1 = nn.Linear(784,256) #뉴런 생성\n",
    "        self.lin2 = nn.Linear(256,128)\n",
    "        self.lin3 = nn.Linear(128,10)\n",
    "\n",
    "    def forward(self,x):\n",
    "        x = x.view(-1,784)\n",
    "        x = F.relu(self.lin1(x))\n",
    "        x = F.relu(self.lin2(x))\n",
    "        x = F.softmax(self.lin3(x),dim=1)\n",
    "        return x"
   ]
  },
  {
   "cell_type": "code",
   "execution_count": 13,
   "id": "f64c01ab",
   "metadata": {},
   "outputs": [],
   "source": [
    "model = MNIST_full() #인공신경망 생성함수 호출\n",
    "optimizer = optim.Adam(model.parameters(),lr=0.001) #최적화 도구로 adam 알고리즘을 사용하여 최적화 대상은 모델의 매개변수가 된다 학습률은 0.01"
   ]
  },
  {
   "cell_type": "code",
   "execution_count": 14,
   "id": "8b642437",
   "metadata": {},
   "outputs": [
    {
     "name": "stdout",
     "output_type": "stream",
     "text": [
      "CrossEntropyLoss()\n"
     ]
    }
   ],
   "source": [
    "criterion = nn.CrossEntropyLoss() #교차 엔트로피 함수를 목적함수로 "
   ]
  },
  {
   "cell_type": "code",
   "execution_count": 15,
   "id": "82ce5e8d",
   "metadata": {},
   "outputs": [
    {
     "name": "stdout",
     "output_type": "stream",
     "text": [
      "Test loss 2.302738, Accuracy: 5.251598%\n"
     ]
    }
   ],
   "source": [
    "# 손실 값과 정확도를 저장할 리스트 초기화\n",
    "loss_buffer, acc = [], []\n",
    "\n",
    "# 테스트 데이터 로더에서 배치 단위로 데이터를 가져옴\n",
    "for x, y in test_loader:\n",
    "    # 타겟 레이블을 원-핫 인코딩으로 변환\n",
    "    y_onehot = torch.zeros((len(y), 10))  # 10개의 클래스가 있다고 가정\n",
    "    y_onehot[range(len(y)), y] = 1  # 각 배치의 레이블을 원-핫 벡터로 변환\n",
    "\n",
    "    # 모델을 사용하여 예측값 계산\n",
    "    y_infer = model(x)\n",
    "\n",
    "    # 손실 함수 계산\n",
    "    loss = criterion(y_infer, y)  # 손실 함수는 보통 CrossEntropyLoss 등이 사용됨\n",
    "    loss_buffer.append(loss.item())  # 손실 값을 리스트에 추가\n",
    "\n",
    "    # 예측값에서 가장 높은 값을 가진 클래스 인덱스를 선택\n",
    "    correct_prediction = torch.argmax(y_infer, 1) == y  # 예측값과 실제값 비교\n",
    "    acc.append(correct_prediction.float().mean())  # 정확도를 리스트에 추가\n",
    "    \n",
    "# 평균 손실 값과 정확도 계산 및 출력\n",
    "print(f'Test loss {np.mean(loss_buffer):f}, Accuracy: {np.mean(acc) * 100:f}%')\n"
   ]
  },
  {
   "cell_type": "code",
   "execution_count": 26,
   "id": "d67deb94",
   "metadata": {},
   "outputs": [
    {
     "name": "stdout",
     "output_type": "stream",
     "text": [
      "실제 이미지의 숫자 1\n",
      "예측 이미지의 숫자 tensor([6])\n"
     ]
    },
    {
     "data": {
      "image/png": "[encoded data removed]",
      "text/plain": [
       "<Figure size 640x480 with 1 Axes>"
      ]
     },
     "metadata": {},
     "output_type": "display_data"
    }
   ],
   "source": [
    "# 실물샘플\n",
    "img,label=random.choice(mnist_test)\n",
    "plt.imshow(img[0,:,:],cmap='gray')\n",
    "y_infer = model(img)\n",
    "print(f'실제 이미지의 숫자 {label}')\n",
    "print(f'예측 이미지의 숫자 {torch.argmax(y_infer,1)}')"
   ]
  },
  {
   "cell_type": "code",
   "execution_count": null,
   "id": "46842850",
   "metadata": {},
   "outputs": [],
   "source": []
  }
 ],
 "metadata": {
  "kernelspec": {
   "display_name": "Python 3 (ipykernel)",
   "language": "python",
   "name": "python3"
  },
  "language_info": {
   "codemirror_mode": {
    "name": "ipython",
    "version": 3
   },
   "file_extension": ".py",
   "mimetype": "text/x-python",
   "name": "python",
   "nbconvert_exporter": "python",
   "pygments_lexer": "ipython3",
   "version": "3.8.19"
  },
  "vscode": {
   "interpreter": {
    "hash": "b6fc799c1f2037c8200a37e43fee9b5831f26e5d5cc70738e41a6ad0e54e0e5b"
   }
  }
 },
 "nbformat": 4,
 "nbformat_minor": 5
}
