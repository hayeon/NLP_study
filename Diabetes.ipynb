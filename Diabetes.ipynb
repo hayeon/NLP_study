{
 "cells": [
  {
   "cell_type": "code",
   "execution_count": 1,
   "id": "ce2c2c93",
   "metadata": {},
   "outputs": [
    {
     "data": {
      "text/plain": [
       "<torch._C.Generator at 0x1e0eabee210>"
      ]
     },
     "execution_count": 1,
     "metadata": {},
     "output_type": "execute_result"
    }
   ],
   "source": [
    "from sklearn.datasets import load_diabetes\n",
    "import pandas as pd\n",
    "\n",
    "import random\n",
    "import numpy as np\n",
    "import torch\n",
    "import torch.nn as nn\n",
    "import torch.optim as optim\n",
    "import torch.nn.functional as F\n",
    "from torch.utils.data import TensorDataset, DataLoader\n",
    "\n",
    "import matplotlib.pyplot as plt\n",
    "random.seed(100)\n",
    "np.random.seed(100)\n",
    "torch.manual_seed(100)"
   ]
  },
  {
   "cell_type": "code",
   "execution_count": 2,
   "id": "d0d341c7",
   "metadata": {},
   "outputs": [],
   "source": [
    "diabetes = load_diabetes()"
   ]
  },
  {
   "cell_type": "code",
   "execution_count": 3,
   "id": "fa758d12",
   "metadata": {},
   "outputs": [],
   "source": [
    "df = pd.DataFrame(diabetes.data, columns=diabetes.feature_names)\n",
    "df['Target']=diabetes.target"
   ]
  },
  {
   "cell_type": "code",
   "execution_count": 4,
   "id": "6a341dff",
   "metadata": {},
   "outputs": [
    {
     "data": {
      "text/plain": [
       "(array([38., 80., 68., 62., 50., 41., 38., 42., 17.,  6.]),\n",
       " array([ 25. ,  57.1,  89.2, 121.3, 153.4, 185.5, 217.6, 249.7, 281.8,\n",
       "        313.9, 346. ]),\n",
       " <BarContainer object of 10 artists>)"
      ]
     },
     "execution_count": 4,
     "metadata": {},
     "output_type": "execute_result"
    },
    {
     "data": {
      "image/png": "[encoded data removed]",
      "text/plain": [
       "<Figure size 432x288 with 1 Axes>"
      ]
     },
     "metadata": {
      "needs_background": "light"
     },
     "output_type": "display_data"
    }
   ],
   "source": [
    "plt.hist(df['Target'])"
   ]
  },
  {
   "cell_type": "code",
   "execution_count": 5,
   "id": "c54c7d18",
   "metadata": {},
   "outputs": [
    {
     "data": {
      "text/plain": [
       "346.0"
      ]
     },
     "execution_count": 5,
     "metadata": {},
     "output_type": "execute_result"
    }
   ],
   "source": [
    "df['Target'].min()\n",
    "df['Target'].max()"
   ]
  },
  {
   "cell_type": "code",
   "execution_count": 6,
   "id": "d62af364",
   "metadata": {},
   "outputs": [],
   "source": [
    "# 무작위 섞기\n",
    "df=df.iloc[np.random.permutation(df.index)].reset_index(drop=True)"
   ]
  },
  {
   "cell_type": "code",
   "execution_count": 7,
   "id": "fbf675bb",
   "metadata": {},
   "outputs": [],
   "source": [
    "# 학습용 데이터, 시험용 데이터 분리\n",
    "train_df = df.copy()[:-20]\n",
    "test_df = df.copy()[-20:]"
   ]
  },
  {
   "cell_type": "code",
   "execution_count": 8,
   "id": "58bb67a5",
   "metadata": {},
   "outputs": [
    {
     "name": "stdout",
     "output_type": "stream",
     "text": [
      "학습 데이터 차원: (422, 11)\n",
      "시험 데이터 차원: (20, 11)\n"
     ]
    }
   ],
   "source": [
    "print(f'학습 데이터 차원: {train_df.shape}')\n",
    "print(f'시험 데이터 차원: {test_df.shape}')"
   ]
  },
  {
   "cell_type": "code",
   "execution_count": 9,
   "id": "61611b7d",
   "metadata": {},
   "outputs": [],
   "source": [
    "# 데이터 전처리 - {데이터,레이블} 모든 열에 대해 정규화 작업\n",
    "data_processing = {} # 후처리를 위한 원래 데이터의 min-max값 저장\n",
    "for idx,head in enumerate(train_df.columns):\n",
    "    data_processing[head] = [train_df[head].min(),train_df[head].max()]\n",
    "    "
   ]
  },
  {
   "cell_type": "code",
   "execution_count": 10,
   "id": "fc6149bb",
   "metadata": {},
   "outputs": [
    {
     "data": {
      "text/plain": [
       "{'age': [-0.107225631607358, 0.110726675453815],\n",
       " 'sex': [-0.044641636506989, 0.0506801187398187],\n",
       " 'bmi': [-0.0902752958985185, 0.17055522598066],\n",
       " 'bp': [-0.112399602060758, 0.132044217194516],\n",
       " 's1': [-0.126780669916514, 0.153913713156516],\n",
       " 's2': [-0.115613065979398, 0.198787989657293],\n",
       " 's3': [-0.10230705051742, 0.181179060397284],\n",
       " 's4': [-0.076394503750001, 0.185234443260194],\n",
       " 's5': [-0.126097385560409, 0.133598980013008],\n",
       " 's6': [-0.137767225690012, 0.135611830689079],\n",
       " 'Target': [25.0, 346.0]}"
      ]
     },
     "execution_count": 10,
     "metadata": {},
     "output_type": "execute_result"
    }
   ],
   "source": [
    "data_processing"
   ]
  },
  {
   "cell_type": "code",
   "execution_count": 11,
   "id": "3d0c4723",
   "metadata": {},
   "outputs": [],
   "source": [
    "def input_preprocessing(x,data_processing):\n",
    "    for idx,(key,value) in enumerate(data_processing.items()):\n",
    "        if idx >= x.shape[1]:\n",
    "            break\n",
    "        x[:,idx] = (x[:,idx]-value[0])/(value[1]-value[0])\n",
    "    return x\n",
    "\n",
    "def label_preprocessing(y,data_preprocessing):\n",
    "    return (y-data_processing['Target'][0])/(data_processing['Target'][1]-data_processing['Target'][0])\n",
    "\n",
    "def output_postprocessing(y,data_processing):\n",
    "    y = y*(data_processing['Target'][1]-data_processing['Target'][0])+data_processing['Target'][0]\n",
    "    return y"
   ]
  },
  {
   "cell_type": "code",
   "execution_count": 12,
   "id": "f8a4220b",
   "metadata": {},
   "outputs": [],
   "source": [
    "train_np = train_df.to_numpy()\n",
    "train_x, train_y = train_np[:,:-1], train_np[:,-1].reshape(-1,1)"
   ]
  },
  {
   "cell_type": "code",
   "execution_count": 13,
   "id": "1cdcf76d",
   "metadata": {},
   "outputs": [],
   "source": [
    "pre_trainx = input_preprocessing(train_x,data_processing)\n",
    "pre_trainy = label_preprocessing(train_y,data_processing)\n",
    "train_x = torch.Tensor(pre_trainx)\n",
    "train_y = torch.Tensor(pre_trainy)\n",
    "datasets = TensorDataset(train_x,train_y)"
   ]
  },
  {
   "cell_type": "code",
   "execution_count": 14,
   "id": "9a9cae03",
   "metadata": {},
   "outputs": [],
   "source": [
    "train_dataloader = DataLoader(datasets,batch_size=32,shuffle=True,drop_last=False)"
   ]
  },
  {
   "cell_type": "code",
   "execution_count": 15,
   "id": "f5e20298",
   "metadata": {},
   "outputs": [],
   "source": [
    "# 인공신경망 모델생성\n",
    "class Diabetes_model(nn.Module):\n",
    "    def __init__(self):\n",
    "        super(Diabetes_model,self).__init__()\n",
    "        self.lin1 = nn.Linear(10,35)\n",
    "        self.lin2 = nn.Linear(35,20)\n",
    "        self.lin3 = nn.Linear(20,1)\n",
    "    \n",
    "    def forward(self,x):\n",
    "        x = F.relu(self.lin1(x))\n",
    "        x = F.relu(self.lin2(x))\n",
    "        x = self.lin3(x)\n",
    "        return x"
   ]
  },
  {
   "cell_type": "code",
   "execution_count": 16,
   "id": "f64e0dfd",
   "metadata": {},
   "outputs": [],
   "source": [
    "model = Diabetes_model()\n",
    "optimizer = optim.Adam(model.parameters(),lr=0.01)"
   ]
  },
  {
   "cell_type": "code",
   "execution_count": 17,
   "id": "047d7a4f",
   "metadata": {},
   "outputs": [],
   "source": [
    "L2_loss = nn.MSELoss()"
   ]
  },
  {
   "cell_type": "code",
   "execution_count": 18,
   "id": "5143e3c6",
   "metadata": {},
   "outputs": [
    {
     "name": "stdout",
     "output_type": "stream",
     "text": [
      "Epoch: 1\n",
      " Iteration:0  Train loss 0.314\n",
      " Iteration:5  Train loss 0.184\n",
      " Iteration:10  Train loss 0.135\n",
      "Epoch: 2\n",
      " Iteration:0  Train loss 0.064\n",
      " Iteration:5  Train loss 0.060\n",
      " Iteration:10  Train loss 0.056\n",
      "Epoch: 3\n",
      " Iteration:0  Train loss 0.047\n",
      " Iteration:5  Train loss 0.044\n",
      " Iteration:10  Train loss 0.043\n",
      "Epoch: 4\n",
      " Iteration:0  Train loss 0.044\n",
      " Iteration:5  Train loss 0.045\n",
      " Iteration:10  Train loss 0.041\n",
      "Epoch: 5\n",
      " Iteration:0  Train loss 0.042\n",
      " Iteration:5  Train loss 0.035\n",
      " Iteration:10  Train loss 0.033\n"
     ]
    }
   ],
   "source": [
    "for epoch in range(5):\n",
    "    print(f'Epoch: {epoch+1}')  \n",
    "    loss_buffer = []\n",
    "    for idx,(x,y) in enumerate(train_dataloader):\n",
    "        y_infer = model(x)\n",
    "        loss = L2_loss(y_infer,y)\n",
    "        optimizer.zero_grad()\n",
    "        loss.backward()\n",
    "        optimizer.step()\n",
    "        \n",
    "        loss_buffer.append(loss.item())\n",
    "        \n",
    "        if idx % 5 == 0:\n",
    "            print(f' Iteration:{idx}  Train loss {np.mean(loss_buffer):.3f}')"
   ]
  },
  {
   "cell_type": "code",
   "execution_count": 19,
   "id": "8bb55bd0",
   "metadata": {},
   "outputs": [],
   "source": [
    "test_np = test_df.to_numpy()\n",
    "test_x, test_y = torch.Tensor(test_np[:,:-1]), torch.Tensor(test_np[:,-1].reshape(-1,1))\n",
    "pre_testx = input_preprocessing(test_x,data_processing)\n",
    "pre_testy = label_preprocessing(test_y,data_processing)\n",
    "\n",
    "y_infer = model(pre_testx)\n",
    "y_infer = output_postprocessing(y_infer,data_processing)"
   ]
  },
  {
   "cell_type": "code",
   "execution_count": 20,
   "id": "74483148",
   "metadata": {},
   "outputs": [
    {
     "name": "stdout",
     "output_type": "stream",
     "text": [
      "최대 차이: 116.67189025878906, 번호: 16\n",
      "최소 차이: 1.29071044921875. 번호: 11\n",
      "평균 차이: 51.423791122436526\n"
     ]
    }
   ],
   "source": [
    "diff = []\n",
    "for idx in range(len(test_np)):\n",
    "    diff.append(np.abs(y_infer[idx].detach().cpu().item()-test_y[idx].detach().cpu().item()))\n",
    "print(f'최대 차이: {np.max(diff)}, 번호: {np.argmax(diff)}')\n",
    "print(f'최소 차이: {np.min(diff)}. 번호: {np.argmin(diff)}')\n",
    "print(f'평균 차이: {np.mean(diff)}')"
   ]
  },
  {
   "cell_type": "code",
   "execution_count": 21,
   "id": "bc7ecba7",
   "metadata": {
    "scrolled": true
   },
   "outputs": [
    {
     "data": {
      "text/plain": [
       "(array([3., 5., 1., 1., 1., 2., 2., 2., 1., 2.]),\n",
       " array([  1.29071045,  12.82882843,  24.36694641,  35.90506439,\n",
       "         47.44318237,  58.98130035,  70.51941833,  82.05753632,\n",
       "         93.5956543 , 105.13377228, 116.67189026]),\n",
       " <BarContainer object of 10 artists>)"
      ]
     },
     "execution_count": 21,
     "metadata": {},
     "output_type": "execute_result"
    },
    {
     "data": {
      "image/png": "[encoded data removed]",
      "text/plain": [
       "<Figure size 432x288 with 1 Axes>"
      ]
     },
     "metadata": {
      "needs_background": "light"
     },
     "output_type": "display_data"
    }
   ],
   "source": [
    "plt.hist(diff,bins=10)"
   ]
  },
  {
   "cell_type": "code",
   "execution_count": 23,
   "id": "828e597f",
   "metadata": {},
   "outputs": [
    {
     "name": "stdout",
     "output_type": "stream",
     "text": [
      "추론값: 241.70928955078125\n",
      "실제값: 243.0\n"
     ]
    }
   ],
   "source": [
    "idx = 11\n",
    "print(f'추론값: {y_infer[idx].item()}')\n",
    "print(f'실제값: {test_y[idx].item()}')"
   ]
  },
  {
   "cell_type": "code",
   "execution_count": null,
   "id": "3986ae58",
   "metadata": {},
   "outputs": [],
   "source": []
  }
 ],
 "metadata": {
  "kernelspec": {
   "display_name": "RL",
   "language": "python",
   "name": "condatest"
  },
  "language_info": {
   "codemirror_mode": {
    "name": "ipython",
    "version": 3
   },
   "file_extension": ".py",
   "mimetype": "text/x-python",
   "name": "python",
   "nbconvert_exporter": "python",
   "pygments_lexer": "ipython3",
   "version": "3.8.19"
  }
 },
 "nbformat": 4,
 "nbformat_minor": 5
}
